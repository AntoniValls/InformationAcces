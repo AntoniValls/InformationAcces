{
 "cells": [
  {
   "cell_type": "markdown",
   "id": "ce2905f3-835e-4dda-85d2-929794c8427d",
   "metadata": {},
   "source": [
    "# Datasets from the \"Network Inequality [...]\" paper"
   ]
  },
  {
   "cell_type": "markdown",
   "id": "da4b190c-bae2-4cc0-93fd-0e5216c73aeb",
   "metadata": {},
   "source": [
    "All the datasets have node features and are undirected."
   ]
  },
  {
   "cell_type": "markdown",
   "id": "e871d59e-5447-491c-b216-88666cc14516",
   "metadata": {},
   "source": [
    "**Example of loading a graph as npz file**"
   ]
  },
  {
   "cell_type": "code",
   "execution_count": 5,
   "id": "7965f8b6-7d6c-49d4-acb3-c54a6ca95148",
   "metadata": {},
   "outputs": [],
   "source": [
    "import numpy as np\n",
    "import networkx as nx\n",
    "from src.utils import load_dataset_from_npz, get_total_classes\n",
    "\n",
    "file_path = 'data/ms_academic_phy.npz'\n",
    "data = np.load(file_path)\n",
    "g = load_dataset_from_npz(file_path)"
   ]
  },
  {
   "cell_type": "code",
   "execution_count": 6,
   "id": "90c67c01-12b4-433f-bbf5-1ac9f0e8e2b1",
   "metadata": {},
   "outputs": [
    {
     "name": "stdout",
     "output_type": "stream",
     "text": [
      "Graph has 34493 nodes, 247962 edges, 8415 features and 5 classes.\n"
     ]
    }
   ],
   "source": [
    "# Print some basic information about the graphg\n",
    "num_nodes = g.number_of_nodes()\n",
    "num_edges = g.number_of_edges()\n",
    "num_features = len(g.nodes[0]) - 1\n",
    "num_classes = get_total_classes(g)\n",
    "\n",
    "print(f\"Graph has {num_nodes} nodes, {num_edges} edges, {num_features} features and {num_classes} classes.\")"
   ]
  },
  {
   "cell_type": "markdown",
   "id": "4c880fbc-b736-42fc-bf58-89df0bd24138",
   "metadata": {},
   "source": [
    "**Example of loading a graph as csv files**"
   ]
  },
  {
   "cell_type": "code",
   "execution_count": 7,
   "id": "dc3ddcd6-d5e7-4268-8e50-7f9ecd4a4345",
   "metadata": {},
   "outputs": [],
   "source": [
    "import numpy as np\n",
    "import networkx as nx\n",
    "from src.utils import load_dataset_from_csv, get_total_classes\n",
    "\n",
    "edges_file = 'data/lastfm_asia/lastfm_asia_edges.csv'\n",
    "features_file = 'data/lastfm_asia/lastfm_asia_features.json'\n",
    "target_file = 'data/lastfm_asia/lastfm_asia_target.csv'\n",
    "g = load_dataset_from_csv(edges_file, features_file, target_file)"
   ]
  },
  {
   "cell_type": "code",
   "execution_count": 8,
   "id": "dad83a5b-5201-47e3-a8fb-7ffeea3ac492",
   "metadata": {},
   "outputs": [
    {
     "name": "stdout",
     "output_type": "stream",
     "text": [
      "Graph has 7624 nodes, 27806 edges, 1 features and 18 classes.\n"
     ]
    }
   ],
   "source": [
    "# Print some basic information about the graphg\n",
    "num_nodes = g.number_of_nodes()\n",
    "num_edges = g.number_of_edges()\n",
    "num_features = len(g.nodes[0]) - 1 # this is wrong: features are embeddings and should be 128\n",
    "num_classes = get_total_classes(g)\n",
    "\n",
    "print(f\"Graph has {num_nodes} nodes, {num_edges} edges, {num_features} features and {num_classes} classes.\")"
   ]
  },
  {
   "cell_type": "markdown",
   "id": "a8c7edc4-90d4-4386-b490-46af7f183b58",
   "metadata": {},
   "source": [
    "TODO: correct the features of the LastFMAsia graph as all of them should be 128-dimensional. Right now they have different dimensions"
   ]
  },
  {
   "cell_type": "code",
   "execution_count": null,
   "id": "d04fb780-0ffe-4d43-b6f3-9a7f097a5a4a",
   "metadata": {},
   "outputs": [],
   "source": []
  }
 ],
 "metadata": {
  "kernelspec": {
   "display_name": "Python 3 (ipykernel)",
   "language": "python",
   "name": "python3"
  },
  "language_info": {
   "codemirror_mode": {
    "name": "ipython",
    "version": 3
   },
   "file_extension": ".py",
   "mimetype": "text/x-python",
   "name": "python",
   "nbconvert_exporter": "python",
   "pygments_lexer": "ipython3",
   "version": "3.10.12"
  }
 },
 "nbformat": 4,
 "nbformat_minor": 5
}
